{
 "cells": [
  {
   "cell_type": "code",
   "execution_count": 325,
   "metadata": {},
   "outputs": [],
   "source": [
    "import numpy as np\n",
    "import matplotlib.pyplot as plt\n",
    "%matplotlib inline"
   ]
  },
  {
   "cell_type": "code",
   "execution_count": 322,
   "metadata": {},
   "outputs": [],
   "source": [
    "dim = 8\n",
    "record = [np.zeros(dim)]\n",
    "for i in range(1000000):\n",
    "    last = record[-1].copy()\n",
    "    move = (np.random.random(dim) - 0.5) * 0.1\n",
    "    next_try = (last + move).copy()\n",
    "    if (np.sum(next_try**2) > 1):\n",
    "        continue\n",
    "    else:\n",
    "        if np.random.random() < 1:\n",
    "            record.append(next_try)\n",
    "record = np.array(record)"
   ]
  },
  {
   "cell_type": "code",
   "execution_count": 320,
   "metadata": {},
   "outputs": [
    {
     "data": {
      "text/plain": [
       "(array([ 51974.,  95163., 107567., 113674., 119963., 124127., 115542.,\n",
       "        108522.,  90536.,  48205.]),\n",
       " array([-9.99588749e-01, -7.99655737e-01, -5.99722726e-01, -3.99789714e-01,\n",
       "        -1.99856703e-01,  7.63087778e-05,  2.00009320e-01,  3.99942332e-01,\n",
       "         5.99875343e-01,  7.99808355e-01,  9.99741366e-01]),\n",
       " <a list of 1 Patch objects>)"
      ]
     },
     "execution_count": 320,
     "metadata": {},
     "output_type": "execute_result"
    },
    {
     "data": {
      "image/png": "[encoded data removed]",
      "text/plain": [
       "<Figure size 432x288 with 1 Axes>"
      ]
     },
     "metadata": {
      "needs_background": "light"
     },
     "output_type": "display_data"
    }
   ],
   "source": [
    "plt.hist(record[:,0],histtype='step')\n",
    "plt.hist(record[:,1],histtype='step')"
   ]
  },
  {
   "cell_type": "code",
   "execution_count": 323,
   "metadata": {},
   "outputs": [
    {
     "data": {
      "text/plain": [
       "(-2, 2)"
      ]
     },
     "execution_count": 323,
     "metadata": {},
     "output_type": "execute_result"
    },
    {
     "data": {
      "image/png": "[encoded data removed]",
      "text/plain": [
       "<Figure size 432x288 with 1 Axes>"
      ]
     },
     "metadata": {
      "needs_background": "light"
     },
     "output_type": "display_data"
    }
   ],
   "source": [
    "plt.plot(record[:,0],record[:,1],'.')\n",
    "plt.plot(0,0,'o')\n",
    "plt.xlim(-2,2)\n",
    "plt.ylim(-2,2)"
   ]
  },
  {
   "cell_type": "code",
   "execution_count": 324,
   "metadata": {},
   "outputs": [
    {
     "data": {
      "text/plain": [
       "(905943, 8)"
      ]
     },
     "execution_count": 324,
     "metadata": {},
     "output_type": "execute_result"
    }
   ],
   "source": [
    "record.shape"
   ]
  },
  {
   "cell_type": "code",
   "execution_count": 126,
   "metadata": {},
   "outputs": [
    {
     "data": {
      "text/plain": [
       "array([-0.48753136, -0.28520764])"
      ]
     },
     "execution_count": 126,
     "metadata": {},
     "output_type": "execute_result"
    }
   ],
   "source": [
    "np.random.random(dim) - 0.5"
   ]
  },
  {
   "cell_type": "code",
   "execution_count": 141,
   "metadata": {},
   "outputs": [
    {
     "data": {
      "text/plain": [
       "0.1674244152259562"
      ]
     },
     "execution_count": 141,
     "metadata": {},
     "output_type": "execute_result"
    }
   ],
   "source": [
    "0.32382581**2 + 0.25012249**2"
   ]
  },
  {
   "cell_type": "code",
   "execution_count": 338,
   "metadata": {},
   "outputs": [],
   "source": [
    "def wtf(n):\n",
    "    if (n in [1,2,3,4]):\n",
    "        return n\n",
    "    tmp = 3\n",
    "    count_3 = 1\n",
    "    count_2 = 0\n",
    "    while (tmp < n - 4):\n",
    "        tmp += 3\n",
    "        count_3 += 1\n",
    "    if (tmp == n - 4):\n",
    "        count_2 += 2\n",
    "    if (tmp == n - 3):\n",
    "        count_3 += 1\n",
    "    if (tmp == n - 2):\n",
    "        count_2 += 1\n",
    "        \n",
    "#     print(tmp, count_3, count_2)\n",
    "    return 3**count_3 * 2**count_2\n",
    "    "
   ]
  },
  {
   "cell_type": "code",
   "execution_count": 342,
   "metadata": {},
   "outputs": [
    {
     "data": {
      "text/plain": [
       "36"
      ]
     },
     "execution_count": 342,
     "metadata": {},
     "output_type": "execute_result"
    }
   ],
   "source": [
    "wtf(10)"
   ]
  },
  {
   "cell_type": "code",
   "execution_count": null,
   "metadata": {},
   "outputs": [],
   "source": []
  }
 ],
 "metadata": {
  "kernelspec": {
   "display_name": "Python 3",
   "language": "python",
   "name": "python3"
  },
  "language_info": {
   "codemirror_mode": {
    "name": "ipython",
    "version": 3
   },
   "file_extension": ".py",
   "mimetype": "text/x-python",
   "name": "python",
   "nbconvert_exporter": "python",
   "pygments_lexer": "ipython3",
   "version": "3.7.1"
  }
 },
 "nbformat": 4,
 "nbformat_minor": 2
}
