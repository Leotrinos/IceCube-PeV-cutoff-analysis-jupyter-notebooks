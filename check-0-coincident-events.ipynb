{
 "cells": [
  {
   "cell_type": "code",
   "execution_count": 1,
   "metadata": {},
   "outputs": [],
   "source": [
    "import numpy as np\n",
    "import scipy as ci\n",
    "import pandas as pd\n",
    "import matplotlib\n",
    "import matplotlib.pyplot as plt\n",
    "import matplotlib.ticker as ticker\n",
    "from scipy.optimize import curve_fit\n",
    "from mpl_toolkits.mplot3d import Axes3D\n",
    "import matplotlib.gridspec as gridspec\n",
    "from IPython.display import display, HTML\n",
    "\n",
    "import seaborn as sns \n",
    "import tables \n",
    "import pickle\n",
    "import warnings\n",
    "warnings.filterwarnings('once')\n",
    "\n",
    "%matplotlib inline \n",
    "%config InlineBackend.figure_format = 'retina'"
   ]
  },
  {
   "cell_type": "code",
   "execution_count": 2,
   "metadata": {},
   "outputs": [
    {
     "data": {
      "text/plain": [
       "<Figure size 432x288 with 0 Axes>"
      ]
     },
     "metadata": {},
     "output_type": "display_data"
    }
   ],
   "source": [
    "plt.figure()\n",
    "plt.rcParams['figure.facecolor'] = 'white'\n",
    "plt.rcParams.update({'font.size': 12})\n",
    "plt.rc('axes', axisbelow=True)"
   ]
  },
  {
   "cell_type": "code",
   "execution_count": 3,
   "metadata": {},
   "outputs": [],
   "source": [
    "lifetime = 86400*365 # 1 year! \n",
    "fig_dir = '/Users/yang/Desktop/IceCube/Codes/my_proj/analysis_1_downgoing_neutrino/1_distribution_plots/plots/ana-1-1-' \n",
    "data_dir = '/Users/yang/Desktop/IceCube/Codes/my_proj/analysis_1_downgoing_neutrino/data/'"
   ]
  },
  {
   "cell_type": "code",
   "execution_count": 7,
   "metadata": {},
   "outputs": [
    {
     "name": "stderr",
     "output_type": "stream",
     "text": [
      "/Users/yang/miniconda3/lib/python3.7/site-packages/ipykernel_launcher.py:6: RuntimeWarning: invalid value encountered in greater\n",
      "  \n"
     ]
    }
   ],
   "source": [
    "with tables.open_file(data_dir+'corsika_h5/corsika_combined_small.h5','r') as f: # 30000 high, 30000 low \n",
    "\n",
    "    CUT_dedx = f.root.Collection.cols.len_dEdxVector[:] >= 6\n",
    "    CUT_cascllh = f.root.CascadeLlhVertexFitParams.cols.rlogL[:] < 18\n",
    "    CUT_d_IC = f.root.Dist_to_IC_center.cols.value[:] < 450\n",
    "    CUT_LdirC = f.root.SplineMPEDirectHitsC.cols.dir_track_length[:] > 600\n",
    "    CUT_balloon = f.root.Balloon.cols.InIceBalloonParameter[:] < 0.22\n",
    "    CUT_toposplit = f.root.TologicalCounterSplitCount.cols.value[:] <4\n",
    "\n",
    "    CUT = CUT_dedx & CUT_cascllh & CUT_d_IC & CUT_LdirC & CUT_balloon & CUT_toposplit\n",
    "    \n",
    "    chi2_corsika = f.root.Collection.cols.chi2[:][CUT]\n",
    "    chi2_red_corsika = f.root.Collection.cols.chi2_red[:][CUT]\n",
    "    stoch_corsika = f.root.Collection.cols.stoch[:][CUT]\n",
    "    chi2_new_corsika = f.root.Collection.cols.chi2_new[:][CUT]\n",
    "    chi2_red_new_corsika = f.root.Collection.cols.chi2_red_new[:][CUT]\n",
    "    PeakOverMedian_corsika = f.root.Collection.cols.PeakOverMedian[:][CUT]\n",
    "    PeakOverMean_corsika = f.root.Collection.cols.PeakOverMean[:][CUT]\n",
    "\n",
    "    zenith_corsika = f.root.SplineMPE.cols.zenith[:][CUT]\n",
    "    truncated_muon_e_corsika = f.root.SplineMPETruncatedEnergy_SPICEMie_BINS_Muon.cols.energy[:][CUT]\n",
    "    len_dedx_corsika = f.root.Collection.cols.len_dEdxVector[:][CUT]\n",
    "    cascllh_corsika = f.root.CascadeLlhVertexFitParams.cols.rlogL[:][CUT]\n",
    "    NPE_corsika = f.root.QTot.cols.value[:][CUT]\n",
    "    Qtot_corsika = f.root.Balloon.cols.InIceTotalCharge[:][CUT]\n",
    "    N_dom_corsika = f.root.Balloon.cols.N_Doms[:][CUT]\n",
    "    N_pulses_corsika = f.root.Balloon.cols.N_Pulses[:][CUT]\n",
    "    balloon_corsika = f.root.Balloon.cols.InIceBalloonParameter[:][CUT]\n",
    "    balloon_adjusted_corsika = f.root.Balloon.cols.InIceBalloonParameter_adjusted[:][CUT]\n",
    "    in_ice_total_charge_corsika = f.root.Balloon.cols.InIceTotalCharge[:][CUT]\n",
    "    in_ice_total_charge_reduced_corsika = f.root.Balloon.cols.InIceTotalCharge_reduced[:][CUT]\n",
    "    ndirdoms_corsika = f.root.SplineMPEDirectHitsC.cols.n_dir_doms[:][CUT]\n",
    "    ndirpulses_corsika = f.root.SplineMPEDirectHitsC.cols.n_dir_pulses[:][CUT]\n",
    "    topocount_corsika = f.root.TologicalCounterSplitCount.cols.value[:][CUT]\n",
    "    wimpcount_corsika = f.root.WIMPrecoTopoSplitSplitCount.cols.value[:][CUT]\n",
    "    cv_ndoms_corsika = f.root.CVMultiplicity.cols.n_hit_doms[:][CUT]\n",
    "    cv_npulses_corsika = f.root.CVMultiplicity.cols.n_pulses[:][CUT]\n",
    "    \n",
    "    closest_d_corsika = f.root.Closest_approach_dist_to_nearest_IT_dom.cols.value[:][CUT]\n",
    "    d_to_IC_center_corsika = f.root.Dist_to_IC_center.cols.value[:][CUT]\n",
    "    d_to_IT_center_corsika = f.root.Dist_to_IT_center.cols.value[:][CUT]\n",
    "    Ldir_corsika = f.root.SplineMPEDirectHitsC.cols.dir_track_length[:][CUT]\n",
    "    coincident_corsika = f.root.PolyplopiaInfo.cols.Multiplicity[:][CUT]\n",
    "    prim_e_corsika = f.root.PolyplopiaPrimary.cols.energy[:][CUT]\n",
    "    \n",
    "    E_bundle_corsika = f.root.Bundle.cols.MuonBundleEnergy_Ei[:][CUT]\n",
    "    E_leading_muon_corsika = f.root.Bundle.cols.MostEnergeticMuonEnergy_i[:][CUT]\n",
    "    singleness_corsika = f.root.Bundle.cols.Singleness_Ei[:][CUT]\n",
    "    bsize_corsika = f.root.Bundle.cols.Size_Ei[:][CUT]\n",
    "    xf_corsika = E_bundle_corsika/prim_e_corsika\n",
    "    E_shower_corsika = prim_e_corsika - E_bundle_corsika # surface shower\n",
    "    \n",
    "    runid_corsika = f.root.FileNumber.cols.value[:][CUT]\n",
    "    eventid_corsika = f.root.FileNumber.cols.Event[:][CUT]\n",
    "    \n",
    "    A_corsika = f.root.PolyplopiaPrimary.cols.type[:][CUT]\n",
    "    CUT_H = A_corsika == 2212\n",
    "    CUT_He = A_corsika == 1000020040\n",
    "    CUT_N= A_corsika == 1000070140\n",
    "    CUT_Al = A_corsika == 1000130270\n",
    "    CUT_Fe = A_corsika == 1000260560\n",
    "    \n",
    "    weight_corsika = f.root.Combined_Weight_H3a[:][CUT] * lifetime\n",
    "\n",
    "    weight_corsika_H = np.sum(weight_corsika) * weight_corsika[CUT_H]/np.sum(weight_corsika[CUT_H])\n",
    "    weight_corsika_He = np.sum(weight_corsika) * weight_corsika[CUT_He]/np.sum(weight_corsika[CUT_He])\n",
    "    weight_corsika_N = np.sum(weight_corsika) * weight_corsika[CUT_N]/np.sum(weight_corsika[CUT_N])\n",
    "    weight_corsika_Al = np.sum(weight_corsika) * weight_corsika[CUT_Al]/np.sum(weight_corsika[CUT_Al])\n",
    "    weight_corsika_Fe = np.sum(weight_corsika) * weight_corsika[CUT_Fe]/np.sum(weight_corsika[CUT_Fe])"
   ]
  },
  {
   "cell_type": "code",
   "execution_count": 13,
   "metadata": {},
   "outputs": [
    {
     "name": "stdout",
     "output_type": "stream",
     "text": [
      "topo single, true single 418924.27733308444\n",
      "topo single, true coincident 18403.864380398776\n",
      "topo coincident, true single 147.23197315038738\n",
      "topo coincidene, true coincident 8077.902956935923\n",
      "\n",
      "\n",
      "topo single, true single 0.9402338604463062\n",
      "topo single, true coincident 0.04130564254636009\n",
      "topo coincident, true single 0.00033044751518721054\n",
      "topo coincidene, true coincident 0.018130049492146423\n"
     ]
    }
   ],
   "source": [
    "cut_topo_single = (topocount_corsika==1)\n",
    "cut_topo_coin = (topocount_corsika>1)\n",
    "cut_real_single = (coincident_corsika==1)\n",
    "cut_real_coin = (coincident_corsika>1)\n",
    "\n",
    "print('topo single, true single',np.sum(weight_corsika[cut_topo_single&cut_real_single]))\n",
    "print('topo single, true coincident',np.sum(weight_corsika[cut_topo_single&cut_real_coin]))\n",
    "print('topo coincident, true single',np.sum(weight_corsika[cut_topo_coin&cut_real_single]))\n",
    "print('topo coincidene, true coincident',np.sum(weight_corsika[cut_topo_coin&cut_real_coin]))\n",
    "print('\\n')\n",
    "print('topo single, true single',np.sum(weight_corsika[cut_topo_single&cut_real_single])/np.sum(weight_corsika))\n",
    "print('topo single, true coincident',np.sum(weight_corsika[cut_topo_single&cut_real_coin])/np.sum(weight_corsika))\n",
    "print('topo coincident, true single',np.sum(weight_corsika[cut_topo_coin&cut_real_single])/np.sum(weight_corsika))\n",
    "print('topo coincidene, true coincident',np.sum(weight_corsika[cut_topo_coin&cut_real_coin])/np.sum(weight_corsika))"
   ]
  },
  {
   "cell_type": "code",
   "execution_count": 14,
   "metadata": {},
   "outputs": [
    {
     "name": "stderr",
     "output_type": "stream",
     "text": [
      "/Users/yang/miniconda3/lib/python3.7/site-packages/ipykernel_launcher.py:6: RuntimeWarning: invalid value encountered in greater\n",
      "  \n"
     ]
    }
   ],
   "source": [
    "with tables.open_file('/Users/yang/Desktop/IceCube/Codes/my_proj/analysis_1_downgoing_neutrino/data/nugen_h5/nugen_11374.h5','r') as f:\n",
    "    n_file = 19017\n",
    "    CUT_dedx = f.root.Collection.cols.len_dEdxVector[:] >= 6\n",
    "    CUT_cascllh = f.root.CascadeLlhVertexFitParams.cols.rlogL[:] < 18\n",
    "    CUT_d_IC = f.root.Dist_to_IC_center.cols.value[:] < 450\n",
    "    CUT_LdirC = f.root.SplineMPEDirectHitsC.cols.dir_track_length[:] > 600\n",
    "    CUT_balloon = f.root.Balloon.cols.InIceBalloonParameter[:] < 0.22\n",
    "    \n",
    "    CUT = CUT_dedx & CUT_cascllh & CUT_d_IC & CUT_LdirC & CUT_balloon \n",
    "    \n",
    "    chi2_red_numu = f.root.Collection.cols.chi2_red[:][CUT]\n",
    "    chi2_red_new_numu = f.root.Collection.cols.chi2_red_new[:][CUT]\n",
    "    PeakOverMedian_numu = f.root.Collection.cols.PeakOverMedian[:][CUT]\n",
    "\n",
    "    zenith_numu = f.root.SplineMPE.cols.zenith[:][CUT]\n",
    "    truncated_muon_e_numu = f.root.SplineMPETruncatedEnergy_SPICEMie_BINS_Muon.cols.energy[:][CUT]\n",
    "    len_dedx_numu = f.root.Collection.cols.len_dEdxVector[:][CUT]\n",
    "    cascllh_numu = f.root.CascadeLlhVertexFitParams.cols.rlogL[:][CUT]\n",
    "    NPE_numu = f.root.QTot.cols.value[:][CUT]\n",
    "    Qtot_numu = f.root.Balloon.cols.InIceTotalCharge[:][CUT]\n",
    "    N_dom_numu = f.root.Balloon.cols.N_Doms[:][CUT]\n",
    "    N_pulses_numu = f.root.Balloon.cols.N_Pulses[:][CUT]\n",
    "    balloon_numu = f.root.Balloon.cols.InIceBalloonParameter[:][CUT]\n",
    "    balloon_adjusted_numu = f.root.Balloon.cols.InIceBalloonParameter_adjusted[:][CUT]\n",
    "    in_ice_total_charge_numu = f.root.Balloon.cols.InIceTotalCharge[:][CUT]\n",
    "    in_ice_total_charge_reduced_numu = f.root.Balloon.cols.InIceTotalCharge_reduced[:][CUT]\n",
    "    ndirdoms_numu = f.root.SplineMPEDirectHitsC.cols.n_dir_doms[:][CUT]\n",
    "    ndirpulses_numu = f.root.SplineMPEDirectHitsC.cols.n_dir_pulses[:][CUT]\n",
    "    topocount_numu = f.root.TologicalCounterSplitCount.cols.value[:][CUT]\n",
    "    wimpcount_numu = f.root.WIMPrecoTopoSplitSplitCount.cols.value[:][CUT]\n",
    "    cv_ndoms_numu = f.root.CVMultiplicity.cols.n_hit_doms[:][CUT]\n",
    "    cv_npulses_numu = f.root.CVMultiplicity.cols.n_pulses[:][CUT]\n",
    "    closest_d_numu = f.root.Closest_approach_dist_to_nearest_IT_dom.cols.value[:][CUT]\n",
    "    d_to_IC_center_numu = f.root.Dist_to_IC_center.cols.value[:][CUT]\n",
    "    d_to_IT_center_numu = f.root.Dist_to_IT_center.cols.value[:][CUT]\n",
    "    Ldir_numu = f.root.SplineMPEDirectHitsC.cols.dir_track_length[:][CUT]\n",
    "    multiplicity_numu = f.root.MCPrimary_coincident.cols.value[:][CUT]\n",
    "    prim_e_numu = f.root.MCPrimary_new.cols.energy[:][CUT]\n",
    "    zenith_truth_numu = f.root.MCPrimary_new.cols.zenith[:][CUT]\n",
    "\n",
    "    weight_numu_conv = f.root.weight_honda2006[:][CUT] * lifetime/n_file \n",
    "    weight_numu_prompt = f.root.weight_BERSS_H3p_central[:][CUT] * lifetime/n_file \n",
    "\n",
    "    ### astrophysical ###\n",
    "    energy = f.root.MCPrimary_new.cols.energy[:][CUT]\n",
    "    OneWeight = f.root.I3MCWeightDict.cols.OneWeight[:][CUT]\n",
    "    NEvents = f.root.I3MCWeightDict.cols.NEvents[:][CUT]\n",
    "    weight_numu_astro = (6.7 * 10**(-18))/6 * (energy/10**5)**(-2) * OneWeight/(n_file * NEvents) * lifetime * 2  # 10**5: 100 TeV. 2 is nu+nubar\n"
   ]
  },
  {
   "cell_type": "code",
   "execution_count": 15,
   "metadata": {},
   "outputs": [
    {
     "name": "stdout",
     "output_type": "stream",
     "text": [
      "topo single, true single 5.993819823712702\n",
      "topo single, true coincident 0.8022965546198337\n",
      "topo coincident, true single 0.0018777732610090556\n",
      "topo coincidene, true coincident 0.39339644310332045\n",
      "\n",
      "\n",
      "topo single, true single 0.8334715997949985\n",
      "topo single, true coincident 0.11156347914288926\n",
      "topo coincident, true single 0.00026111406914731885\n",
      "topo coincidene, true coincident 0.054703806992964905\n"
     ]
    }
   ],
   "source": [
    "cut_topo_single = (topocount_numu==1)\n",
    "cut_topo_coin = (topocount_numu>1)\n",
    "cut_real_single = (multiplicity_numu==0)\n",
    "cut_real_coin = (multiplicity_numu==1)\n",
    "\n",
    "print('topo single, true single',np.sum(weight_numu_astro[cut_topo_single&cut_real_single]))\n",
    "print('topo single, true coincident',np.sum(weight_numu_astro[cut_topo_single&cut_real_coin]))\n",
    "print('topo coincident, true single',np.sum(weight_numu_astro[cut_topo_coin&cut_real_single]))\n",
    "print('topo coincidene, true coincident',np.sum(weight_numu_astro[cut_topo_coin&cut_real_coin]))\n",
    "print('\\n')\n",
    "print('topo single, true single',np.sum(weight_numu_astro[cut_topo_single&cut_real_single])/np.sum(weight_numu_astro))\n",
    "print('topo single, true coincident',np.sum(weight_numu_astro[cut_topo_single&cut_real_coin])/np.sum(weight_numu_astro))\n",
    "print('topo coincident, true single',np.sum(weight_numu_astro[cut_topo_coin&cut_real_single])/np.sum(weight_numu_astro))\n",
    "print('topo coincidene, true coincident',np.sum(weight_numu_astro[cut_topo_coin&cut_real_coin])/np.sum(weight_numu_astro))"
   ]
  },
  {
   "cell_type": "code",
   "execution_count": null,
   "metadata": {},
   "outputs": [],
   "source": []
  }
 ],
 "metadata": {
  "kernelspec": {
   "display_name": "Python 3",
   "language": "python",
   "name": "python3"
  },
  "language_info": {
   "codemirror_mode": {
    "name": "ipython",
    "version": 3
   },
   "file_extension": ".py",
   "mimetype": "text/x-python",
   "name": "python",
   "nbconvert_exporter": "python",
   "pygments_lexer": "ipython3",
   "version": "3.7.1"
  }
 },
 "nbformat": 4,
 "nbformat_minor": 2
}
